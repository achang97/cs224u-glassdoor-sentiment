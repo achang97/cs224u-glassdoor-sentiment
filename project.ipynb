{
 "cells": [
  {
   "cell_type": "markdown",
   "metadata": {},
   "source": [
    "# Glassdoor Sentiment Analysis: Stanford Sentiment Treebank"
   ]
  },
  {
   "cell_type": "markdown",
   "metadata": {},
   "source": [
    "## Contents\n",
    "\n",
    "1. [Methodological note](#Methodological-note)\n",
    "1. [Set-up](#Set-up)\n",
    "1. [A softmax baseline](#A-softmax-baseline)\n",
    "1. [RNNClassifier wrapper](#RNNClassifier-wrapper)\n",
    "1. [Error analysis](#Error-analysis)\n",
    "1. [Homework questions](#Homework-questions)\n",
    "  1. [Sentiment words alone [2 points]](#Sentiment-words-alone-[2-points])\n",
    "  1. [A more powerful vector-summing baseline [3 points]](#A-more-powerful-vector-summing-baseline-[3-points])\n",
    "  1. [Your original system [4 points]](#Your-original-system-[4-points])\n",
    "1. [Bake-off [1 point]](#Bake-off-[1-point])"
   ]
  },
  {
   "cell_type": "markdown",
   "metadata": {},
   "source": [
    "## Methodological note\n",
    "\n",
    "You don't have to use the experimental framework defined below (based on `sst`). However, if you don't use `sst.experiment` as below, then make sure you're training only on `train`, evaluating on `dev`, and that you report with \n",
    "\n",
    "```\n",
    "from sklearn.metrics import classification_report\n",
    "classification_report(y_dev, predictions)\n",
    "```\n",
    "where `y_dev = [y for tree, y in sst.dev_reader(class_func=sst.ternary_class_func)]`. We'll focus on the value at `macro avg` under `f1-score` in these reports."
   ]
  },
  {
   "cell_type": "markdown",
   "metadata": {},
   "source": [
    "## Set-up\n",
    "\n",
    "See [the first notebook in this unit](sst_01_overview.ipynb#Set-up) for set-up instructions."
   ]
  },
  {
   "cell_type": "code",
   "execution_count": 5,
   "metadata": {},
   "outputs": [],
   "source": [
    "import sys\n",
    "sys.path.insert(0, 'cs224u_files')\n",
    "\n",
    "from collections import Counter\n",
    "import numpy as np\n",
    "import os\n",
    "import pandas as pd\n",
    "import random\n",
    "from sklearn.linear_model import LogisticRegression\n",
    "import sst\n",
    "import torch.nn as nn\n",
    "from torch_rnn_classifier import TorchRNNClassifier\n",
    "from torch_tree_nn import TorchTreeNN\n",
    "import sklearn.model_selection.StratifiedKFold as StratifiedKFold\n",
    "import utils"
   ]
  },
  {
   "cell_type": "code",
   "execution_count": 6,
   "metadata": {},
   "outputs": [],
   "source": [
    "SST_HOME = 'glassdoor-data'"
   ]
  },
  {
   "cell_type": "markdown",
   "metadata": {},
   "source": [
    "## A softmax baseline\n",
    "\n",
    "This example is here mainly as a reminder of how to use our experimental framework with linear models."
   ]
  },
  {
   "cell_type": "code",
   "execution_count": 20,
   "metadata": {},
   "outputs": [],
   "source": [
    "def unigrams_phi(tree):\n",
    "    \"\"\"The basis for a unigrams feature function.\n",
    "    \n",
    "    Parameters\n",
    "    ----------\n",
    "    tree : nltk.tree\n",
    "        The tree to represent.\n",
    "    \n",
    "    Returns\n",
    "    -------    \n",
    "    Counter\n",
    "        A map from strings to their counts in `tree`. (Counter maps a \n",
    "        list to a dict of counts of the elements in that list.)\n",
    "    \n",
    "    \"\"\"\n",
    "    return Counter(tree.leaves())"
   ]
  },
  {
   "cell_type": "markdown",
   "metadata": {},
   "source": [
    "Thin wrapper around `LogisticRegression` for the sake of `sst.experiment`:"
   ]
  },
  {
   "cell_type": "code",
   "execution_count": 21,
   "metadata": {},
   "outputs": [],
   "source": [
    "def fit_softmax_classifier(X, y):        \n",
    "    mod = LogisticRegression(\n",
    "        fit_intercept=True,\n",
    "        solver='liblinear',\n",
    "        multi_class='ovr')\n",
    "    mod.fit(X, y)\n",
    "    return mod"
   ]
  },
  {
   "cell_type": "markdown",
   "metadata": {},
   "source": [
    "The experimental run with some notes:"
   ]
  },
  {
   "cell_type": "code",
   "execution_count": 22,
   "metadata": {},
   "outputs": [
    {
     "name": "stdout",
     "output_type": "stream",
     "text": [
      "              precision    recall  f1-score   support\n",
      "\n",
      "    negative      0.628     0.689     0.657       428\n",
      "     neutral      0.343     0.153     0.211       229\n",
      "    positive      0.629     0.750     0.684       444\n",
      "\n",
      "   micro avg      0.602     0.602     0.602      1101\n",
      "   macro avg      0.533     0.531     0.518      1101\n",
      "weighted avg      0.569     0.602     0.575      1101\n",
      "\n"
     ]
    }
   ],
   "source": [
    "softmax_experiment = sst.experiment(\n",
    "    SST_HOME,\n",
    "    unigrams_phi,                      # Free to write your own!\n",
    "    fit_softmax_classifier,            # Free to write your own!\n",
    "    train_reader=sst.train_reader,     # Fixed by the competition.\n",
    "    assess_reader=sst.dev_reader,      # Fixed until the bake-off.\n",
    "    class_func=sst.ternary_class_func) # Fixed by the bake-off rules."
   ]
  },
  {
   "cell_type": "markdown",
   "metadata": {},
   "source": [
    "`softmax_experiment` contains a lot of information that you can use for analysis; see [this section below](#Error-analysis) for starter code."
   ]
  },
  {
   "cell_type": "markdown",
   "metadata": {},
   "source": [
    "## RNNClassifier wrapper\n",
    "\n",
    "This section illustrates how to use `sst.experiment` with RNN and TreeNN models."
   ]
  },
  {
   "cell_type": "markdown",
   "metadata": {},
   "source": [
    "To featurize examples for an RNN, we just get the words in order, letting the model take care of mapping them into an embedding space."
   ]
  },
  {
   "cell_type": "code",
   "execution_count": 23,
   "metadata": {},
   "outputs": [],
   "source": [
    "def rnn_phi(tree):\n",
    "    return tree.leaves()    "
   ]
  },
  {
   "cell_type": "markdown",
   "metadata": {},
   "source": [
    "The model wrapper gets the vocabulary using `sst.get_vocab`. If you want to use pretrained word representations in here, then you can have `fit_rnn_classifier` build that space too; see [this notebook section for details](sst_03_neural_networks.ipynb#Pretrained-embeddings)."
   ]
  },
  {
   "cell_type": "code",
   "execution_count": 24,
   "metadata": {},
   "outputs": [],
   "source": [
    "def fit_rnn_classifier(X, y):    \n",
    "    sst_glove_vocab = utils.get_vocab(X, n_words=10000)     \n",
    "    mod = TorchRNNClassifier(\n",
    "        sst_glove_vocab, \n",
    "        eta=0.05,\n",
    "        embedding=None,\n",
    "        batch_size=1000,\n",
    "        embed_dim=50,\n",
    "        hidden_dim=50,\n",
    "        max_iter=50,\n",
    "        l2_strength=0.001,\n",
    "        bidirectional=True,\n",
    "        hidden_activation=nn.ReLU())\n",
    "    mod.fit(X, y)\n",
    "    return mod"
   ]
  },
  {
   "cell_type": "code",
   "execution_count": 25,
   "metadata": {},
   "outputs": [
    {
     "name": "stderr",
     "output_type": "stream",
     "text": [
      "Finished epoch 50 of 50; error is 2.2390241771936417"
     ]
    },
    {
     "name": "stdout",
     "output_type": "stream",
     "text": [
      "              precision    recall  f1-score   support\n",
      "\n",
      "    negative      0.601     0.661     0.630       428\n",
      "     neutral      0.274     0.227     0.248       229\n",
      "    positive      0.630     0.624     0.627       444\n",
      "\n",
      "   micro avg      0.556     0.556     0.556      1101\n",
      "   macro avg      0.501     0.504     0.501      1101\n",
      "weighted avg      0.544     0.556     0.549      1101\n",
      "\n"
     ]
    }
   ],
   "source": [
    "rnn_experiment = sst.experiment(\n",
    "    SST_HOME,\n",
    "    rnn_phi,\n",
    "    fit_rnn_classifier, \n",
    "    vectorize=False,  # For deep learning, use `vectorize=False`.\n",
    "    assess_reader=sst.dev_reader)"
   ]
  },
  {
   "cell_type": "markdown",
   "metadata": {},
   "source": [
    "## Error analysis\n",
    "\n",
    "This section begins to build an error-analysis framework using the dicts returned by `sst.experiment`. These have the following structure:\n",
    "\n",
    "```\n",
    "'model': trained model\n",
    "'train_dataset':\n",
    "   'X': feature matrix\n",
    "   'y': list of labels\n",
    "   'vectorizer': DictVectorizer,\n",
    "   'raw_examples': list of raw inputs, before featurizing   \n",
    "'assess_dataset': same structure as the value of 'train_dataset'\n",
    "'predictions': predictions on the assessment data\n",
    "'metric': `score_func.__name__`, where `score_func` is an `sst.experiment` argument\n",
    "'score': the `score_func` score on the assessment data\n",
    "```\n",
    "The following function just finds mistakes, and returns a `pd.DataFrame` for easy subsequent processing:"
   ]
  },
  {
   "cell_type": "code",
   "execution_count": 26,
   "metadata": {},
   "outputs": [],
   "source": [
    "def find_errors(experiment):\n",
    "    \"\"\"Find mistaken predictions.\n",
    "    \n",
    "    Parameters\n",
    "    ----------\n",
    "    experiment : dict\n",
    "        As returned by `sst.experiment`.\n",
    "        \n",
    "    Returns\n",
    "    -------\n",
    "    pd.DataFrame\n",
    "    \n",
    "    \"\"\"\n",
    "    raw_examples = experiment['assess_dataset']['raw_examples']\n",
    "    raw_examples = [\" \".join(tree.leaves()) for tree in raw_examples]\n",
    "    df = pd.DataFrame({\n",
    "        'raw_examples': raw_examples,\n",
    "        'predicted': experiment['predictions'],\n",
    "        'gold': experiment['assess_dataset']['y']})\n",
    "    df['correct'] = df['predicted'] == df['gold']\n",
    "    return df"
   ]
  },
  {
   "cell_type": "code",
   "execution_count": 27,
   "metadata": {},
   "outputs": [],
   "source": [
    "softmax_analysis = find_errors(softmax_experiment)"
   ]
  },
  {
   "cell_type": "code",
   "execution_count": 28,
   "metadata": {},
   "outputs": [],
   "source": [
    "rnn_analysis = find_errors(rnn_experiment)"
   ]
  },
  {
   "cell_type": "markdown",
   "metadata": {},
   "source": [
    "Here we merge the sotmax and RNN experiments into a single DataFrame:"
   ]
  },
  {
   "cell_type": "code",
   "execution_count": 29,
   "metadata": {},
   "outputs": [],
   "source": [
    "analysis = softmax_analysis.merge(\n",
    "    rnn_analysis, left_on='raw_examples', right_on='raw_examples')\n",
    "\n",
    "analysis = analysis.drop('gold_y', axis=1).rename(columns={'gold_x': 'gold'})"
   ]
  },
  {
   "cell_type": "markdown",
   "metadata": {},
   "source": [
    "The following code collects a specific subset of examples; small modifications to its structure will give you different interesting subsets:"
   ]
  },
  {
   "cell_type": "code",
   "execution_count": 30,
   "metadata": {},
   "outputs": [],
   "source": [
    "# Examples where the softmax model is correct, the RNN is not,\n",
    "# and the gold label is 'positive'\n",
    "\n",
    "error_group = analysis[\n",
    "    (analysis['predicted_x'] == analysis['gold'])\n",
    "    &\n",
    "    (analysis['predicted_y'] != analysis['gold'])    \n",
    "    &\n",
    "    (analysis['gold'] == 'positive')\n",
    "]"
   ]
  },
  {
   "cell_type": "code",
   "execution_count": 31,
   "metadata": {},
   "outputs": [
    {
     "data": {
      "text/plain": [
       "71"
      ]
     },
     "execution_count": 31,
     "metadata": {},
     "output_type": "execute_result"
    }
   ],
   "source": [
    "error_group.shape[0]"
   ]
  },
  {
   "cell_type": "code",
   "execution_count": 32,
   "metadata": {},
   "outputs": [
    {
     "name": "stdout",
     "output_type": "stream",
     "text": [
      "======================================================================\n",
      "It 's a beautiful madness .\n",
      "======================================================================\n",
      "One of the smartest takes on singles culture I 've seen in a long time .\n",
      "======================================================================\n",
      "But it still jingles in the pocket .\n",
      "======================================================================\n",
      "For the first time in years , De Niro digs deep emotionally , perhaps because he 's been stirred by the powerful work of his co-stars .\n",
      "======================================================================\n",
      "With Rabbit-Proof Fence , Noyce has tailored an epic tale into a lean , economical movie .\n"
     ]
    }
   ],
   "source": [
    "for ex in error_group['raw_examples'].sample(5):\n",
    "    print(\"=\"*70)\n",
    "    print(ex)"
   ]
  },
  {
   "cell_type": "markdown",
   "metadata": {},
   "source": [
    "## Homework questions\n",
    "\n",
    "Please embed your homework responses in this notebook, and do not delete any cells from the notebook. (You are free to add as many cells as you like as part of your responses.)"
   ]
  },
  {
   "cell_type": "markdown",
   "metadata": {},
   "source": [
    "### Sentiment words alone [2 points]\n",
    "\n",
    "NLTK includes an easy interface to [Minqing Hu and Bing Liu's __Opinion Lexicon__](https://www.cs.uic.edu/~liub/FBS/sentiment-analysis.html), which consists of a list of positive words and a list of negative words. How much of the ternary SST story does this lexicon tell?\n",
    "\n",
    "For this problem, submit code to do the following:\n",
    "\n",
    "1. Create a feature function `op_unigrams` on the model of `unigrams_phi` above, but filtering the vocabulary to just items that are members of the Opinion Lexicon. Submit this feature function.\n",
    "\n",
    "1. Evaluate your feature function with `sst.experiment`, with all the same parameters as were used to create `softmax_experiment` in [A softmax baseline](#A-softmax-baseline) above, except of course for the feature function.\n",
    "\n",
    "1. Use `utils.mcnemar` to compare your feature function with the results in `softmax_experiment`. The information you need for this is in `softmax_experiment` and your own `sst.experiment` results. Submit your evaluation code. You can assume `softmax_experiment` is already in memory, but your code should create the other objects necessary for this comparison."
   ]
  },
  {
   "cell_type": "code",
   "execution_count": 70,
   "metadata": {},
   "outputs": [
    {
     "name": "stdout",
     "output_type": "stream",
     "text": [
      "              precision    recall  f1-score   support\n",
      "\n",
      "    negative      0.553     0.752     0.638       428\n",
      "     neutral      0.179     0.031     0.052       229\n",
      "    positive      0.615     0.664     0.639       444\n",
      "\n",
      "   micro avg      0.567     0.567     0.567      1101\n",
      "   macro avg      0.449     0.482     0.443      1101\n",
      "weighted avg      0.500     0.567     0.516      1101\n",
      "\n",
      "McNemar's test: 5.33 (0.020980477345314247)\n"
     ]
    }
   ],
   "source": [
    "from nltk.corpus import opinion_lexicon\n",
    "\n",
    "# Use set for fast membership checking:\n",
    "positive = set(opinion_lexicon.positive())\n",
    "negative = set(opinion_lexicon.negative())\n",
    "\n",
    "def op_unigrams(tree):\n",
    "    filtered_unigrams = [word for word in tree.leaves() if word in positive or word in negative]\n",
    "    return Counter(filtered_unigrams)\n",
    "\n",
    "softmax_op_experiment = sst.experiment(\n",
    "    SST_HOME,\n",
    "    op_unigrams,                      # Free to write your own!\n",
    "    fit_softmax_classifier,            # Free to write your own!\n",
    "    train_reader=sst.train_reader,     # Fixed by the competition.\n",
    "    assess_reader=sst.dev_reader,      # Fixed until the bake-off.\n",
    "    class_func=sst.ternary_class_func) # Fixed by the bake-off rules.\n",
    "\n",
    "m = utils.mcnemar(\n",
    "    softmax_experiment['assess_dataset']['y'], \n",
    "    softmax_experiment['predictions'],\n",
    "    softmax_op_experiment['predictions'])\n",
    "\n",
    "p = \"p < 0.0001\" if m[1] < 0.0001 else m[1]\n",
    "print(\"McNemar's test: {0:0.02f} ({1:})\".format(m[0], p))"
   ]
  },
  {
   "cell_type": "markdown",
   "metadata": {},
   "source": [
    "### A more powerful vector-summing baseline [3 points]\n",
    "\n",
    "In [Distributed representations as features](sst_03_neural_networks.ipynb#Distributed-representations-as-features), we looked at a baseline for the ternary SST problem in which each example is modeled as the sum of its 50-dimensional GloVe representations. A `LogisticRegression` model was used for prediction. A neural network might do better here, since there might be complex relationships between the input feature dimensions that a linear classifier can't learn. \n",
    "\n",
    "To address this question, rerun the experiment with `torch_shallow_neural_classifier.TorchShallowNeuralClassifier` as the classifier. Specs:\n",
    "* Use `sst.experiment` to conduct the experiment. \n",
    "* Using 3-fold cross-validation, exhaustively explore this set of hyperparameter combinations:\n",
    "  * The hidden dimensionality at 50, 100, and 200.\n",
    "  * The hidden activation function as `nn.Tanh` or `nn.ReLU`.\n",
    "* (For all other parameters to `TorchShallowNeuralClassifier`, use the defaults.)\n",
    "\n",
    "For this problem, submit code to do the following:\n",
    "\n",
    "1. Your model wrapper function around `TorchShallowNeuralClassifier`. This function should implement the requisite cross-validation; see [this notebook section](sst_02_hand_built_features.ipynb#Hyperparameter-search) for examples.\n",
    "1. Your average F1 score according to `sst.experiment`. \n",
    "2. The optimal hyperparameters chosen in your experiment. (You can just paste in the dict that `sst._experiment` prints.)\n",
    "\n",
    "We're not evaluating the quality of your model. (We've specified the protocols completely, but there will still be a  lot of variation in the results.) However, the primary goal of this question is to get you thinking more about this strikingly good baseline feature representation scheme for SST, so we're sort of hoping you feel compelled to try out variations on your own."
   ]
  },
  {
   "cell_type": "code",
   "execution_count": 87,
   "metadata": {},
   "outputs": [],
   "source": [
    "from torch_shallow_neural_classifier import TorchShallowNeuralClassifier\n",
    "\n",
    "def vsm_leaves_phi(tree, lookup, np_func=np.sum):\n",
    "    \"\"\"Represent `tree` as a combination of the vector of its words.\n",
    "    \n",
    "    Parameters\n",
    "    ----------\n",
    "    tree : nltk.Tree   \n",
    "    lookup : dict\n",
    "        From words to vectors.\n",
    "    np_func : function (default: np.sum)\n",
    "        A numpy matrix operation that can be applied columnwise, \n",
    "        like `np.mean`, `np.sum`, or `np.prod`. The requirement is that \n",
    "        the function take `axis=0` as one of its arguments (to ensure\n",
    "        columnwise combination) and that it return a vector of a \n",
    "        fixed length, no matter what the size of the tree is.\n",
    "    \n",
    "    Returns\n",
    "    -------\n",
    "    np.array, dimension `X.shape[1]`\n",
    "            \n",
    "    \"\"\"      \n",
    "    allvecs = np.array([lookup[w] for w in tree.leaves() if w in lookup])    \n",
    "    if len(allvecs) == 0:\n",
    "        dim = len(next(iter(lookup.values())))\n",
    "        feats = np.zeros(dim)\n",
    "    else:       \n",
    "        feats = np_func(allvecs, axis=0)      \n",
    "    return feats\n",
    "\n",
    "def glove_leaves_phi(tree, np_func=np.sum):\n",
    "    return vsm_leaves_phi(tree, glove_lookup, np_func=np_func)\n",
    "\n",
    "def fit_torch_shallow_neural_classifier(X, y):\n",
    "    base_mod = TorchShallowNeuralClassifier()\n",
    "    \n",
    "    cv = 3\n",
    "    param_grid = {\n",
    "        'hidden_dim': [50, 100, 200], \n",
    "        'hidden_activation': [nn.Tanh(), nn.ReLU()],\n",
    "    }   \n",
    "\n",
    "    best_mod = utils.fit_classifier_with_crossvalidation(\n",
    "        X, y, base_mod, cv, param_grid)\n",
    "    \n",
    "    return best_mod\n",
    "\n",
    "DATE_HOME = 'data'\n",
    "GLOVE_HOME = os.path.join(DATE_HOME, 'glove.6B')\n",
    "\n",
    "glove_lookup = utils.glove2dict(\n",
    "    os.path.join(GLOVE_HOME, 'glove.6B.300d.txt'))"
   ]
  },
  {
   "cell_type": "code",
   "execution_count": 91,
   "metadata": {},
   "outputs": [
    {
     "name": "stderr",
     "output_type": "stream",
     "text": [
      "Finished epoch 100 of 100; error is 2.30353552103042693"
     ]
    },
    {
     "name": "stdout",
     "output_type": "stream",
     "text": [
      "Best params: {'hidden_activation': Tanh(), 'hidden_dim': 50}\n",
      "Best score: 0.520\n",
      "              precision    recall  f1-score   support\n",
      "\n",
      "    negative      0.621     0.645     0.633       989\n",
      "     neutral      0.304     0.191     0.235       498\n",
      "    positive      0.647     0.735     0.688      1077\n",
      "\n",
      "   micro avg      0.595     0.595     0.595      2564\n",
      "   macro avg      0.524     0.524     0.519      2564\n",
      "weighted avg      0.570     0.595     0.579      2564\n",
      "\n"
     ]
    }
   ],
   "source": [
    "_ = sst.experiment(\n",
    "    SST_HOME,\n",
    "    glove_leaves_phi,\n",
    "    fit_torch_shallow_neural_classifier,\n",
    "    class_func=sst.ternary_class_func,\n",
    "    vectorize=False)  # Tell `experiment` that we already have our feature vectors."
   ]
  },
  {
   "cell_type": "markdown",
   "metadata": {},
   "source": [
    "### Results\n",
    "The macro-averaged F1 score was 0.519 and the best parameters were {'hidden_activation': Tanh(), 'hidden_dim': 50}."
   ]
  },
  {
   "cell_type": "markdown",
   "metadata": {},
   "source": [
    "### Your original system [4 points]\n",
    "\n",
    "Your task is to develop an original model for the SST ternary problem. There are many options. If you spend more than a few hours on this homework problem, you should consider letting it grow into your final project! Here are some relatively manageable ideas that you might try:\n",
    "\n",
    "1. We didn't systematically evaluate the `bidirectional` option to the `TorchRNNClassifier`. Similarly, that model could be tweaked to allow multiple LSTM layers (at present there is only one), and you could try adding layers to the classifier portion of the model as well.\n",
    "\n",
    "1. We've already glimpsed the power of rich initial word representations, and later in the course we'll see that smart initialization usually leads to a performance gain in NLP, so you could perhaps achieve a winning entry with a simple model that starts in a great place.\n",
    "\n",
    "1. The [practical introduction to contextual word representations](contextualreps.ipynb) (to be discussed later in the quarter) covers pretrained representations and interfaces that are likely to boost the performance of any system.\n",
    "\n",
    "1. The `TreeNN` and `TorchTreeNN` don't perform all that well, and this could be for the same reason that RNNs don't peform well: the gradient signal doesn't propagate reliably down inside very deep trees. [Tai et al. 2015](https://aclanthology.info/papers/P15-1150/p15-1150) sought to address this with TreeLSTMs, which are fairly easy to implement in PyTorch.\n",
    "\n",
    "1. In the [distributed representations as features](#Distributed-representations-as-features) section, we just summed  all of the leaf-node GloVe vectors to obtain a fixed-dimensional representation for all sentences. This ignores all of the tree structure. See if you can do better by paying attention to the binary tree structure: write a function `glove_subtree_phi` that obtains a vector representation for each subtree by combining the vectors of its daughters, with the leaf nodes again given by GloVe (any dimension you like) and the full representation of the sentence given by the final vector obtained by this recursive process. You can decide on how you combine the vectors. \n",
    "\n",
    "1. If you have a lot of computing resources, then you can fire off a large hyperparameter search over many parameter values. All the model classes for this course are compatible with the `scikit-learn` and [scikit-optimize](https://scikit-optimize.github.io) methods, because they define the required functions for getting and setting parameters.\n",
    "\n",
    "We want to emphasize that this needs to be an __original__ system. It doesn't suffice to download code from the Web, retrain, and submit. You can build on others' code, but you have to do something new and meaningful with it.\n",
    "\n",
    "__Please include a brief prose description of your system along with your code, to help the teaching team understand the structure of your system.__"
   ]
  },
  {
   "cell_type": "markdown",
   "metadata": {},
   "source": [
    "### Model Description\n",
    "\n",
    "We tried various approaches for our own system, attempting to utilize the TorchShallowNeuralClassifier, RandomForestClassifier, and our custom 4-layer neural network (TorchCustomNeuralClassifier) before settling on using a TorchRNNClassifierModel. We extended the class to be able to handle multiple layers and utilize dropout.\n",
    "\n",
    "Our final system was a RNN that:\n",
    "\n",
    "1. Utilized contextual information using BERT uncased_L-12_H-768_A-12 model, with words as features.\n",
    "2. Explored the hyperparameter space. Used various values for hidden_dim, dropout, and bidirectionality.\n",
    "3. Tried using both 1 and 2 LSTM layers. However, we did not edit the classifer portion of the RNN."
   ]
  },
  {
   "cell_type": "code",
   "execution_count": 52,
   "metadata": {},
   "outputs": [],
   "source": [
    "from bert_serving.client import BertClient \n",
    "\n",
    "def bert_sentence_phi(tree):\n",
    "    s = \" \".join(tree.leaves())\n",
    "    return bert_lookup[s]\n",
    "\n",
    "def bert_rnn_sentence_phi(tree):\n",
    "    s = \" \".join(tree.leaves())\n",
    "    return bert_word_lookup[s]\n",
    "\n",
    "def bert_reduce_mean(X):\n",
    "    return X.mean(axis=1)  \n",
    "\n",
    "bc = BertClient(check_length=False)\n",
    "\n",
    "# Read train and dev\n",
    "sst_train_reader = sst.train_reader(\n",
    "    SST_HOME, class_func=sst.ternary_class_func)\n",
    "sst_train = [(\" \".join(t.leaves()), label) for t, label in sst_train_reader]\n",
    "\n",
    "sst_dev_reader = sst.dev_reader(\n",
    "    SST_HOME, class_func=sst.ternary_class_func)\n",
    "sst_dev = [(\" \".join(t.leaves()), label) for t, label in sst_dev_reader]\n",
    "\n",
    "# Zip\n",
    "X_str_train, y_train = zip(*sst_train)\n",
    "X_str_dev, y_dev = zip(*sst_dev)\n",
    "\n",
    "# Process examples into tokens\n",
    "X_bert_train, bert_train_toks = bc.encode(list(X_str_train), show_tokens=True)\n",
    "X_bert_dev, bert_dev_toks = bc.encode(list(X_str_dev), show_tokens=True)\n",
    "    \n",
    "# Reduce mean\n",
    "X_bert_train_mean = bert_reduce_mean(X_bert_train)\n",
    "X_bert_dev_mean = bert_reduce_mean(X_bert_dev)\n",
    "\n",
    "bert_lookup = {}\n",
    "for (sents, reps) in ((X_str_train, X_bert_train_mean), \n",
    "                      (X_str_dev, X_bert_dev_mean)):\n",
    "    assert len(sents) == len(reps)\n",
    "    for s, rep in zip(sents, reps):\n",
    "        bert_lookup[s] = rep\n",
    "        \n",
    "\n",
    "bert_word_lookup = {}\n",
    "for (sents, reps) in ((X_str_train, X_bert_train), \n",
    "                      (X_str_dev, X_bert_dev)):\n",
    "    assert len(sents) == len(reps)\n",
    "    for s, rep in zip(sents, reps):\n",
    "        bert_word_lookup[s] = rep"
   ]
  },
  {
   "cell_type": "code",
   "execution_count": 123,
   "metadata": {},
   "outputs": [],
   "source": [
    "import numpy as np\n",
    "import torch\n",
    "import torch.nn as nn\n",
    "import torch.utils.data\n",
    "from torch_model_base import TorchModelBase\n",
    "from utils import progress_bar\n",
    "\n",
    "class TorchCustomNeuralClassifier(TorchShallowNeuralClassifier):\n",
    "    \"\"\"\n",
    "    Code based on TorchShallowNeuralClassifier.\n",
    "    \n",
    "    Fit a model\n",
    "\n",
    "    h = f(xW1 + b1)\n",
    "    y = softmax(hW2 + b2)\n",
    "\n",
    "    with a cross entropy loss.\n",
    "\n",
    "    Parameters\n",
    "    ----------\n",
    "    hidden_dim_1 : int\n",
    "        Dimensionality of the first hidden layer.\n",
    "    hidden_dim_2 : int\n",
    "        Dimensionality of the second hidden layer.\n",
    "    hidden_dim_3 : int\n",
    "        Dimensionality of the third hidden layer.\n",
    "    hidden_activation : vectorized activation function\n",
    "        The non-linear activation function used by the network for the\n",
    "        hidden layer. Default `nn.Tanh()`.\n",
    "    max_iter : int\n",
    "        Maximum number of training epochs.\n",
    "    eta : float\n",
    "        Learning rate.\n",
    "    optimizer : PyTorch optimizer\n",
    "        Default is `torch.optim.Adam`.\n",
    "    l2_strength : float\n",
    "        L2 regularization strength. Default 0 is no regularization.\n",
    "    device : 'cpu' or 'cuda'\n",
    "        The default is to use 'cuda' iff available\n",
    "\n",
    "    \"\"\"\n",
    "    def __init__(self, **kwargs):\n",
    "        super(TorchCustomNeuralClassifier, self).__init__(**kwargs)\n",
    "\n",
    "    def define_graph(self):\n",
    "        return nn.Sequential(\n",
    "            nn.Linear(self.input_dim, self.hidden_dim_1),\n",
    "            self.hidden_activation,\n",
    "            nn.Linear(self.hidden_dim_1, self.hidden_dim_2),\n",
    "            self.hidden_activation,\n",
    "            torch.nn.Dropout(0.1),\n",
    "            nn.Linear(self.hidden_dim_2, self.hidden_dim_3),\n",
    "            self.hidden_activation,\n",
    "            nn.Linear(self.hidden_dim_3, self.n_classes_))"
   ]
  },
  {
   "cell_type": "code",
   "execution_count": 4,
   "metadata": {},
   "outputs": [],
   "source": [
    "import numpy as np\n",
    "from operator import itemgetter\n",
    "import torch\n",
    "import torch.nn as nn\n",
    "import torch.utils.data\n",
    "from torch_model_base import TorchModelBase\n",
    "from utils import progress_bar\n",
    "from torch_rnn_classifier import TorchRNNClassifierModel\n",
    "\n",
    "class TorchMultilayerRNNClassifierModel(TorchRNNClassifierModel):\n",
    "    def __init__(self,\n",
    "            vocab_size,\n",
    "            embed_dim,\n",
    "            embedding,\n",
    "            use_embedding,\n",
    "            hidden_dim,\n",
    "            output_dim,\n",
    "            bidirectional,\n",
    "            device,\n",
    "            dropout,\n",
    "            num_layers):\n",
    "        super(TorchMultilayerRNNClassifierModel, self).__init__(\n",
    "            vocab_size,\n",
    "            embed_dim,\n",
    "            embedding,\n",
    "            use_embedding,\n",
    "            hidden_dim,\n",
    "            output_dim,\n",
    "            bidirectional,\n",
    "            device)\n",
    "        # Graph\n",
    "        if self.use_embedding:\n",
    "            self.embedding = self._define_embedding(\n",
    "                embedding, vocab_size, self.embed_dim)\n",
    "            self.embed_dim = self.embedding.embedding_dim\n",
    "        self.rnn = nn.LSTM(\n",
    "            input_size=self.embed_dim,\n",
    "            hidden_size=hidden_dim,\n",
    "            batch_first=True,\n",
    "            bidirectional=bidirectional,\n",
    "            num_layers=num_layers,\n",
    "            dropout=dropout)\n",
    "        if bidirectional:\n",
    "            classifier_dim = hidden_dim * 2\n",
    "        else:\n",
    "            classifier_dim = hidden_dim\n",
    "        self.classifier_layer = nn.Linear(classifier_dim, output_dim)\n",
    "\n",
    "\n",
    "class TorchMultilayerRNNClassifier(TorchRNNClassifier):\n",
    "    \"\"\"LSTM-based Recurrent Neural Network for classification problems.\n",
    "    The network will work for any kind of classification task.\n",
    "\n",
    "    Parameters\n",
    "    ----------\n",
    "    vocab : list of str\n",
    "        This should be the vocabulary. It needs to be aligned with\n",
    "         `embedding` in the sense that the ith element of vocab\n",
    "        should be represented by the ith row of `embedding`. Ignored\n",
    "        if `use_embedding=False`.\n",
    "    embedding : np.array or None\n",
    "        Each row represents a word in `vocab`, as described above.\n",
    "    use_embedding : bool\n",
    "        If True, then incoming examples are presumed to be lists of\n",
    "        elements of the vocabulary. If False, then they are presumed\n",
    "        to be lists of vectors. In this case, the `embedding` and\n",
    "        `embed_dim` arguments are ignored, since no embedding is needed\n",
    "        and `embed_dim` is set by the nature of the incoming vectors.\n",
    "    embed_dim : int\n",
    "        Dimensionality for the initial embeddings. This is ignored\n",
    "        if `embedding` is not None, as a specified value there\n",
    "        determines this value. Also ignored if `use_embedding=False`.\n",
    "    hidden_dim : int\n",
    "        Dimensionality of the hidden layer.\n",
    "    bidirectional : bool\n",
    "        If True, then the final hidden states from passes in both\n",
    "        directions are used.\n",
    "    hidden_activation : vectorized activation function\n",
    "        The non-linear activation function used by the network for the\n",
    "        hidden layer. Default `nn.Tanh()`.\n",
    "    max_iter : int\n",
    "        Maximum number of training epochs.\n",
    "    eta : float\n",
    "        Learning rate.\n",
    "    optimizer : PyTorch optimizer\n",
    "        Default is `torch.optim.Adam`.\n",
    "    l2_strength : float\n",
    "        L2 regularization strength. Default 0 is no regularization.\n",
    "    device : 'cpu' or 'cuda'\n",
    "        The default is to use 'cuda' iff available\n",
    "    dropout : float\n",
    "        The amount of dropout to be used in the LSTM. The default is 0.\n",
    "    num_layers : int\n",
    "        The number of layers in the LSTM. The default is 1.\n",
    "    \"\"\"\n",
    "    def __init__(self,\n",
    "            vocab=[],\n",
    "            embedding=None,\n",
    "            use_embedding=True,\n",
    "            embed_dim=50,\n",
    "            bidirectional=False,\n",
    "            num_layers=1,\n",
    "            dropout=0,\n",
    "            **kwargs):\n",
    "        super(TorchMultilayerRNNClassifier, self).__init__(\n",
    "            vocab,\n",
    "            embedding=embedding,\n",
    "            use_embedding=use_embedding,\n",
    "            embed_dim=embed_dim,\n",
    "            bidirectional=bidirectional,\n",
    "            **kwargs)\n",
    "        self.num_layers = num_layers\n",
    "        self.dropout = dropout\n",
    "\n",
    "    def build_graph(self):\n",
    "        return TorchMultilayerRNNClassifierModel(\n",
    "            vocab_size=len(self.vocab),\n",
    "            embedding=self.embedding,\n",
    "            use_embedding=self.use_embedding,\n",
    "            embed_dim=self.embed_dim,\n",
    "            hidden_dim=self.hidden_dim,\n",
    "            output_dim=self.n_classes_,\n",
    "            bidirectional=self.bidirectional,\n",
    "            device=self.device,\n",
    "            dropout=self.dropout,\n",
    "            num_layers=self.num_layers)"
   ]
  },
  {
   "cell_type": "code",
   "execution_count": 159,
   "metadata": {},
   "outputs": [
    {
     "name": "stderr",
     "output_type": "stream",
     "text": [
      "Finished epoch 50 of 50; error is 0.0040959785692393785/Users/chungchang/anaconda3/envs/nlu/lib/python3.7/site-packages/torch/nn/modules/rnn.py:46: UserWarning: dropout option adds dropout after all but last recurrent layer, so non-zero dropout expects num_layers greater than 1, but got dropout=0.1 and num_layers=1\n",
      "  \"num_layers={}\".format(dropout, num_layers))\n",
      "Finished epoch 50 of 50; error is 0.0034767751931212842"
     ]
    },
    {
     "name": "stdout",
     "output_type": "stream",
     "text": [
      "Best params: {'bidirectional': True, 'dropout': 0, 'hidden_dim': 100, 'max_iter': 50, 'num_layers': 2, 'use_embedding': False, 'vocab': []}\n",
      "Best score: 0.609\n",
      "              precision    recall  f1-score   support\n",
      "\n",
      "    negative      0.691     0.757     0.723       988\n",
      "     neutral      0.381     0.268     0.315       522\n",
      "    positive      0.763     0.807     0.785      1054\n",
      "\n",
      "   micro avg      0.678     0.678     0.678      2564\n",
      "   macro avg      0.612     0.611     0.607      2564\n",
      "weighted avg      0.658     0.678     0.665      2564\n",
      "\n"
     ]
    }
   ],
   "source": [
    "from sklearn.ensemble import RandomForestClassifier\n",
    "\n",
    "def fit_custom_torch_shallow_neural_classifier(X, y):\n",
    "    base_mod = TorchShallowNeuralClassifier()\n",
    "    \n",
    "    cv = 3\n",
    "    param_grid = {\n",
    "        'hidden_dim': [250, 275, 300, 325, 350], \n",
    "        'hidden_activation': [nn.Tanh(), nn.ReLU()],\n",
    "    }   \n",
    "\n",
    "    best_mod = utils.fit_classifier_with_crossvalidation(\n",
    "        X, y, base_mod, cv, param_grid)\n",
    "    \n",
    "    return best_mod\n",
    "\n",
    "def fit_custom_random_forest_classifier(X, y):\n",
    "    base_mod = RandomForestClassifier()\n",
    "    \n",
    "    cv = 3\n",
    "    param_grid = {\n",
    "        'max_depth': [50, 100, 150, 200], \n",
    "        'max_features': ['auto', None]\n",
    "    }   \n",
    "\n",
    "    best_mod = utils.fit_classifier_with_crossvalidation(\n",
    "        X, y, base_mod, cv, param_grid)\n",
    "    \n",
    "    return best_mod\n",
    "\n",
    "def fit_custom_torch_neural_classifier(X, y):\n",
    "    base_mod = TorchCustomNeuralClassifier()\n",
    "    \n",
    "    cv = 3\n",
    "    param_grid = {\n",
    "        'hidden_dim_1': [275, 300, 325], \n",
    "        'hidden_dim_2': [150, 175], \n",
    "        'hidden_dim_3': [100, 125], \n",
    "        'hidden_activation': [nn.Tanh()],\n",
    "    }   \n",
    "\n",
    "    best_mod = utils.fit_classifier_with_crossvalidation(\n",
    "        X, y, base_mod, cv, param_grid)\n",
    "    \n",
    "    return best_mod\n",
    "\n",
    "def fit_custom_rnn_classifier(X, y):\n",
    "    bert_rnn = TorchMultilayerRNNClassifier()\n",
    "\n",
    "    # Warning: takes a VERY long time to run!\n",
    "    cv = 3\n",
    "    param_grid = {\n",
    "        'vocab': [[]],\n",
    "        'use_embedding': [False],\n",
    "        'max_iter': [50],\n",
    "        'bidirectional': [True, False], \n",
    "        'hidden_dim': [50, 100], \n",
    "        'num_layers': [1, 2],\n",
    "        'dropout': [0, 0.1]\n",
    "    }   \n",
    "\n",
    "    best_mod = utils.fit_classifier_with_crossvalidation(\n",
    "        X, y, bert_rnn, cv, param_grid)\n",
    "\n",
    "    return best_mod\n",
    "        \n",
    "_ = sst.experiment(\n",
    "    SST_HOME,\n",
    "    bert_rnn_sentence_phi,\n",
    "    fit_custom_rnn_classifier,\n",
    "    class_func=sst.ternary_class_func,\n",
    "    vectorize=False)"
   ]
  },
  {
   "cell_type": "code",
   "execution_count": 160,
   "metadata": {},
   "outputs": [],
   "source": [
    "# Store model in pickle for later usage in bakeoff\n",
    "import pickle\n",
    "pickle.dump(_['model'], open('sst_best_model.pkl', 'wb'))"
   ]
  },
  {
   "cell_type": "code",
   "execution_count": 162,
   "metadata": {},
   "outputs": [
    {
     "name": "stdout",
     "output_type": "stream",
     "text": [
      "              precision    recall  f1-score   support\n",
      "\n",
      "    negative      0.705     0.710     0.708       428\n",
      "     neutral      0.331     0.227     0.269       229\n",
      "    positive      0.725     0.838     0.777       444\n",
      "\n",
      "   micro avg      0.661     0.661     0.661      1101\n",
      "   macro avg      0.587     0.592     0.585      1101\n",
      "weighted avg      0.636     0.661     0.645      1101\n",
      "\n"
     ]
    }
   ],
   "source": [
    "from sklearn.metrics import classification_report\n",
    "# Test load\n",
    "loaded_model = pickle.load(open('sst_best_model.pkl', 'rb'))\n",
    "loaded_model_preds = loaded_model.predict(X_bert_dev)\n",
    "print(classification_report(y_dev, loaded_model_preds, digits=3))"
   ]
  },
  {
   "cell_type": "markdown",
   "metadata": {},
   "source": [
    "## Bake-off [1 point]\n",
    "\n",
    "The bake-off will begin on April 22. The announcement will go out on Piazza. As we said above, the bake-off evaluation data is the official SST test set release. For this bake-off, you'll evaluate your original system from the above homework problem on the test set, using the ternary class problem. Rules:\n",
    "\n",
    "1. Only one evaluation is permitted.\n",
    "1. No additional system tuning is permitted once the bake-off has started.\n",
    "\n",
    "To enter the bake-off, upload this notebook on Canvas:\n",
    "\n",
    "https://canvas.stanford.edu/courses/99711/assignments/187246\n",
    "\n",
    "The cells below this one constitute your bake-off entry.\n",
    "\n",
    "Systems that enter will receive the additional homework point, and systems that achieve the top score will receive an additional 0.5 points. We will test the top-performing systems ourselves, and only systems for which we can reproduce the reported results will win the extra 0.5 points.\n",
    "\n",
    "The bake-off will close at 4:30 pm on April 24. Late entries will be accepted, but they cannot earn the extra 0.5 points. Similarly, you cannot win the bake-off unless your homework is submitted on time."
   ]
  },
  {
   "cell_type": "code",
   "execution_count": 6,
   "metadata": {},
   "outputs": [
    {
     "name": "stderr",
     "output_type": "stream",
     "text": [
      "Finished epoch 50 of 50; error is 0.0034276168735232204"
     ]
    },
    {
     "name": "stdout",
     "output_type": "stream",
     "text": [
      "              precision    recall  f1-score   support\n",
      "\n",
      "    negative      0.732     0.752     0.742       912\n",
      "     neutral      0.318     0.260     0.286       389\n",
      "    positive      0.791     0.831     0.810       909\n",
      "\n",
      "   micro avg      0.698     0.698     0.698      2210\n",
      "   macro avg      0.613     0.614     0.613      2210\n",
      "weighted avg      0.683     0.698     0.690      2210\n",
      "\n"
     ]
    }
   ],
   "source": [
    "# Enter your bake-off assessment code in this cell. \n",
    "# Please do not remove this comment.\n",
    "\n",
    "# This is a copy of some code above, but cleaned up and edited to handle the test set.\n",
    "from bert_serving.client import BertClient \n",
    "\n",
    "def bert_rnn_sentence_phi(tree):\n",
    "    s = \" \".join(tree.leaves())\n",
    "    return bert_word_lookup[s]\n",
    "\n",
    "def fit_custom_rnn_classifier(X, y):\n",
    "    # Same as above, but without hyperparameter exploration\n",
    "    bert_rnn = TorchMultilayerRNNClassifier(\n",
    "        vocab=[],\n",
    "        use_embedding=False,\n",
    "        max_iter=50,\n",
    "        bidirectional=True,\n",
    "        hidden_dim=100,\n",
    "        num_layers=2,\n",
    "        dropout=0\n",
    "    )\n",
    "    bert_rnn.fit(X, y)\n",
    "    return bert_rnn\n",
    "\n",
    "bc = BertClient(check_length=False)\n",
    "\n",
    "# Read train and test\n",
    "sst_train_reader = sst.train_reader(\n",
    "    SST_HOME, class_func=sst.ternary_class_func)\n",
    "sst_train = [(\" \".join(t.leaves()), label) for t, label in sst_train_reader]\n",
    "\n",
    "sst_test_reader = sst.test_reader(\n",
    "    SST_HOME, class_func=sst.ternary_class_func)\n",
    "sst_test = [(\" \".join(t.leaves()), label) for t, label in sst_test_reader]\n",
    "\n",
    "# Zip\n",
    "X_str_train, y_train = zip(*sst_train)\n",
    "X_str_test, y_test = zip(*sst_test)\n",
    "\n",
    "# Process examples into tokens\n",
    "X_bert_train, bert_train_toks = bc.encode(list(X_str_train), show_tokens=True)\n",
    "X_bert_test, bert_test_toks = bc.encode(list(X_str_test), show_tokens=True)        \n",
    "\n",
    "bert_word_lookup = {}\n",
    "for (sents, reps) in ((X_str_train, X_bert_train), \n",
    "                      (X_str_test, X_bert_test)):\n",
    "    assert len(sents) == len(reps)\n",
    "    for s, rep in zip(sents, reps):\n",
    "        bert_word_lookup[s] = rep\n",
    "        \n",
    "# Added vectorize=False\n",
    "bakeoff_experiment = sst.experiment(\n",
    "    SST_HOME,\n",
    "    bert_rnn_sentence_phi,\n",
    "    fit_custom_rnn_classifier,\n",
    "    train_reader=sst.train_reader,\n",
    "    assess_reader=sst.test_reader,\n",
    "    class_func=sst.ternary_class_func,\n",
    "    vectorize=False)"
   ]
  },
  {
   "cell_type": "code",
   "execution_count": 19,
   "metadata": {},
   "outputs": [],
   "source": [
    "# On an otherwise blank line in this cell, please enter\n",
    "# your macro-average F1 value as reported by the code above. \n",
    "# Please enter only a number between 0 and 1 inclusive.\n",
    "# Please do not remove this comment.\n",
    "0.613"
   ]
  }
 ],
 "metadata": {
  "kernelspec": {
   "display_name": "Python 3",
   "language": "python",
   "name": "python3"
  },
  "language_info": {
   "codemirror_mode": {
    "name": "ipython",
    "version": 3
   },
   "file_extension": ".py",
   "mimetype": "text/x-python",
   "name": "python",
   "nbconvert_exporter": "python",
   "pygments_lexer": "ipython3",
   "version": "3.7.1"
  },
  "widgets": {
   "state": {},
   "version": "1.1.2"
  }
 },
 "nbformat": 4,
 "nbformat_minor": 2
}
